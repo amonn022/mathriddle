{
 "cells": [
  {
   "cell_type": "code",
   "execution_count": 1,
   "metadata": {},
   "outputs": [],
   "source": [
    "import numpy as np"
   ]
  },
  {
   "cell_type": "code",
   "execution_count": 67,
   "metadata": {},
   "outputs": [],
   "source": [
    "def one_game_simulation():\n",
    "    coinflips = np.random.choice(['H','T'],100)\n",
    "    aliceIndex = np.arange(0,100).tolist()\n",
    "    bobIndex = np.concatenate(\n",
    "    (np.arange(0,100,2),\n",
    "    np.arange(1,100,2))\n",
    "    ).tolist()\n",
    "\n",
    "    alice_pos = 0\n",
    "    bob_pos = 0\n",
    "\n",
    "    while True:\n",
    "        if alice_pos < 99:\n",
    "            alice_coin1 = coinflips[aliceIndex[alice_pos]]\n",
    "            alice_coin2 = coinflips[aliceIndex[alice_pos+1]]\n",
    "            # Compare to see if they are the same\n",
    "            if(alice_coin1==alice_coin2):\n",
    "                return \"Alice\"\n",
    "            alice_pos+= 1\n",
    "\n",
    "        if bob_pos < 99:\n",
    "            bob_coin1 = coinflips[bobIndex[bob_pos]]\n",
    "            bob_coin2 = coinflips[bobIndex[bob_pos+1]]\n",
    "            # Compare to see if they are the same in bob's case \n",
    "            if(bob_coin1==bob_coin2):\n",
    "                return \"Bob\"\n",
    "            bob_pos+= 1\n",
    "    "
   ]
  },
  {
   "cell_type": "code",
   "execution_count": 68,
   "metadata": {},
   "outputs": [],
   "source": [
    "def full_simulation(num_games):\n",
    "    alice_wins = 0\n",
    "    bob_wins = 0\n",
    "\n",
    "    for _ in range(num_games):\n",
    "        winner = one_game_simulation()\n",
    "        if winner == \"Alice\":\n",
    "            alice_wins+=1\n",
    "        else:\n",
    "            bob_wins+=1\n",
    "    return alice_wins, bob_wins"
   ]
  },
  {
   "cell_type": "code",
   "execution_count": 75,
   "metadata": {},
   "outputs": [
    {
     "name": "stdout",
     "output_type": "stream",
     "text": [
      "Alice won 756 times\n",
      "Bob won 244 times\n"
     ]
    }
   ],
   "source": [
    "alice_win_count, bob_win_count =  full_simulation(1000)\n",
    "\n",
    "print(f\"Alice won {alice_win_count} times\")\n",
    "print(f\"Bob won {bob_win_count} times\")\n"
   ]
  },
  {
   "cell_type": "markdown",
   "metadata": {},
   "source": []
  }
 ],
 "metadata": {
  "kernelspec": {
   "display_name": "Python 3",
   "language": "python",
   "name": "python3"
  },
  "language_info": {
   "codemirror_mode": {
    "name": "ipython",
    "version": 3
   },
   "file_extension": ".py",
   "mimetype": "text/x-python",
   "name": "python",
   "nbconvert_exporter": "python",
   "pygments_lexer": "ipython3",
   "version": "3.10.0"
  }
 },
 "nbformat": 4,
 "nbformat_minor": 2
}
